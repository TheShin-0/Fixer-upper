{
 "cells": [
  {
   "cell_type": "markdown",
   "metadata": {},
   "source": [
    "# Test\n"
   ]
  },
  {
   "cell_type": "markdown",
   "metadata": {},
   "source": [
    "Math test: $\\alpha = \\gamma$"
   ]
  },
  {
   "cell_type": "code",
   "execution_count": 2,
   "metadata": {},
   "outputs": [
    {
     "name": "stderr",
     "output_type": "stream",
     "text": [
      "INFO:gammapy.scripts.download:Downloading datasets from https://github.com/gammapy/gammapy-data/tarball/v1.2\n",
      "223MB [00:10, 21.9MB/s]                            \n",
      "INFO:gammapy.scripts.download:Extracting gammapy-datasets/1.2/datasets.tar.gz\n"
     ]
    },
    {
     "name": "stdout",
     "output_type": "stream",
     "text": [
      "\n",
      "*** You might want to declare GAMMAPY_DATA as a global env variable\n",
      "export GAMMAPY_DATA=$PWD/gammapy-datasets/1.2\n",
      "\n",
      "Or as part of your conda environment:\n",
      "conda env config vars set GAMMAPY_DATA=$PWD/gammapy-datasets/1.2\n",
      "conda conda activate gammapy-1.2\n",
      "\n",
      "Great your setup is correct!\n",
      "\n",
      "System:\n",
      "\n",
      "\tpython_executable      : /home/codespace/miniforge3/envs/gammapy-1.2/bin/python \n",
      "\tpython_version         : 3.10.15    \n",
      "\tmachine                : x86_64     \n",
      "\tsystem                 : Linux      \n",
      "\n",
      "\n",
      "Gammapy package:\n",
      "\n",
      "\tversion                : 1.2        \n",
      "\tpath                   : /home/codespace/miniforge3/envs/gammapy-1.2/lib/python3.10/site-packages/gammapy \n",
      "\n",
      "\n",
      "Other packages:\n",
      "\n",
      "\tnumpy                  : 1.26.4     \n",
      "\tscipy                  : 1.12.0     \n",
      "\tastropy                : 6.0.1      \n",
      "\tregions                : 0.8        \n",
      "\tclick                  : 8.1.7      \n",
      "\tyaml                   : 6.0.2      \n",
      "\tIPython                : 8.20.0     \n",
      "\tjupyterlab             : 4.0.13     \n",
      "\tmatplotlib             : 3.8.4      \n",
      "\tpandas                 : 2.1.4      \n",
      "\thealpy                 : 1.16.6     \n",
      "\timinuit                : 2.24.0     \n",
      "\tsherpa                 : not installed \n",
      "\tnaima                  : 0.10.0     \n",
      "\temcee                  : 3.1.6      \n",
      "\tcorner                 : 2.2.2      \n",
      "\tray                    : not installed \n",
      "\n",
      "\n",
      "Gammapy environment variables:\n",
      "\n",
      "\tGAMMAPY_DATA           : ./gammapy-datasets \n",
      "\n"
     ]
    }
   ],
   "source": [
    "import matplotlib.pyplot as plt\n",
    "\n",
    "from numpy import sqrt\n",
    "\n",
    "import astropy.units as u\n",
    "\n",
    "from astropy.coordinates import (\n",
    "    SkyCoord, \n",
    "    Angle,\n",
    ")\n",
    "\n",
    "\n",
    "from gammapy.utils.check import check_tutorials_setup\n",
    "\n",
    "from gammapy.data import (\n",
    "    DataStore,\n",
    "    EventList,\n",
    ")\n",
    "\n",
    "from gammapy.stats import WStatCountsStatistic\n",
    "\n",
    "from gammapy.maps import Map\n",
    "\n",
    "import subprocess, os\n",
    "if not os.path.exists(\"./gammapy-datasets/1.2\"):\n",
    "    subprocess.run([\"gammapy\", \"download\", \"datasets\"]) \n",
    "os.environ['GAMMAPY_DATA'] = './gammapy-datasets'\n",
    "if not os.path.exists(\"./gammapy-datasets/1.2/hess-dl3-dr1\"):\n",
    "    raise Exception(\"gammapy-data repository not found!\")\n",
    "else:\n",
    "    print(\"Great your setup is correct!\")\n",
    "\n",
    "check_tutorials_setup()"
   ]
  },
  {
   "cell_type": "code",
   "execution_count": 3,
   "metadata": {},
   "outputs": [
    {
     "name": "stdout",
     "output_type": "stream",
     "text": [
      "\n",
      "System:\n",
      "\n",
      "\tpython_executable      : /home/codespace/miniforge3/envs/gammapy-1.2/bin/python \n",
      "\tpython_version         : 3.10.15    \n",
      "\tmachine                : x86_64     \n",
      "\tsystem                 : Linux      \n",
      "\n",
      "\n",
      "Gammapy package:\n",
      "\n",
      "\tversion                : 1.2        \n",
      "\tpath                   : /home/codespace/miniforge3/envs/gammapy-1.2/lib/python3.10/site-packages/gammapy \n",
      "\n",
      "\n",
      "Other packages:\n",
      "\n",
      "\tnumpy                  : 1.26.4     \n",
      "\tscipy                  : 1.12.0     \n",
      "\tastropy                : 6.0.1      \n",
      "\tregions                : 0.8        \n",
      "\tclick                  : 8.1.7      \n",
      "\tyaml                   : 6.0.2      \n",
      "\tIPython                : 8.20.0     \n",
      "\tjupyterlab             : 4.0.13     \n",
      "\tmatplotlib             : 3.8.4      \n",
      "\tpandas                 : 2.1.4      \n",
      "\thealpy                 : 1.16.6     \n",
      "\timinuit                : 2.24.0     \n",
      "\tsherpa                 : not installed \n",
      "\tnaima                  : 0.10.0     \n",
      "\temcee                  : 3.1.6      \n",
      "\tcorner                 : 2.2.2      \n",
      "\tray                    : not installed \n",
      "\n",
      "\n",
      "Gammapy environment variables:\n",
      "\n",
      "\tGAMMAPY_DATA           : ./gammapy-datasets \n",
      "\n"
     ]
    }
   ],
   "source": [
    "check_tutorials_setup()"
   ]
  },
  {
   "cell_type": "markdown",
   "metadata": {},
   "source": [
    "---"
   ]
  },
  {
   "cell_type": "code",
   "execution_count": 1,
   "metadata": {},
   "outputs": [
    {
     "name": "stdout",
     "output_type": "stream",
     "text": [
      "If all these show, youre good to go.\n"
     ]
    }
   ],
   "source": [
    "print(\"If all these show, youre good to go.\")"
   ]
  }
 ],
 "metadata": {
  "kernelspec": {
   "display_name": "Python 3",
   "language": "python",
   "name": "python3"
  },
  "language_info": {
   "codemirror_mode": {
    "name": "ipython",
    "version": 3
   },
   "file_extension": ".py",
   "mimetype": "text/x-python",
   "name": "python",
   "nbconvert_exporter": "python",
   "pygments_lexer": "ipython3",
   "version": "3.10.15"
  }
 },
 "nbformat": 4,
 "nbformat_minor": 2
}
